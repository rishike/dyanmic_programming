{
 "cells": [
  {
   "cell_type": "code",
   "execution_count": 2,
   "metadata": {},
   "outputs": [],
   "source": [
    "# Write a function 'allConstruct(target, wordBank)' that accepts a\n",
    "# target string and an array of strings."
   ]
  },
  {
   "cell_type": "code",
   "execution_count": 3,
   "metadata": {},
   "outputs": [],
   "source": [
    "# The Function should return a 2D array containing all of the ways\n",
    "# that the 'target' can be constructed by concatenating elements of\n",
    "# the 'wordbank' array."
   ]
  },
  {
   "cell_type": "code",
   "execution_count": 4,
   "metadata": {},
   "outputs": [],
   "source": [
    "# You may reuse elements of 'wordBank' as many times as needed."
   ]
  },
  {
   "cell_type": "code",
   "execution_count": 22,
   "metadata": {},
   "outputs": [],
   "source": [
    "# Time: O(n^m)\n",
    "# space: O(m)\n",
    "def allConstruct(target, wordBank):\n",
    "    if target == '': return [[]]\n",
    "    result = []\n",
    "    for word in wordBank:\n",
    "        if target.find(word) == 0:\n",
    "            suffix = target[len(word):]\n",
    "            suffixWays = allConstruct(suffix, wordBank)\n",
    "            targetWays = list(map(lambda sublist: [word] + sublist , suffixWays))\n",
    "            result = result + targetWays\n",
    "    return result"
   ]
  },
  {
   "cell_type": "code",
   "execution_count": 27,
   "metadata": {},
   "outputs": [],
   "source": [
    "def allConstructMemo(target, wordBank, memo={}):\n",
    "    if target in memo: return memo[target]\n",
    "    if target == '': return [[]]\n",
    "    result = []\n",
    "    for word in wordBank:\n",
    "        if target.find(word) == 0:\n",
    "            suffix = target[len(word):]\n",
    "            suffixWays = allConstructMemo(suffix, wordBank, memo)\n",
    "            targetWays = list(map(lambda sublist: [word] + sublist , suffixWays))\n",
    "            result = result + targetWays\n",
    "    memo[target] = result;\n",
    "    return result"
   ]
  },
  {
   "cell_type": "code",
   "execution_count": 23,
   "metadata": {},
   "outputs": [
    {
     "data": {
      "text/plain": [
       "[['purp', 'le'], ['p', 'ur', 'p', 'le']]"
      ]
     },
     "execution_count": 23,
     "metadata": {},
     "output_type": "execute_result"
    }
   ],
   "source": [
    "allConstruct('purple', ['purp', 'p', 'ur', 'le', 'purpl'])"
   ]
  },
  {
   "cell_type": "code",
   "execution_count": 24,
   "metadata": {},
   "outputs": [
    {
     "data": {
      "text/plain": [
       "[['ab', 'cd', 'ef'], ['ab', 'c', 'def'], ['abc', 'def'], ['abcd', 'ef']]"
      ]
     },
     "execution_count": 24,
     "metadata": {},
     "output_type": "execute_result"
    }
   ],
   "source": [
    "allConstruct('abcdef', ['ab', 'abc', 'cd', 'def', 'abcd', 'ef', 'c'])"
   ]
  },
  {
   "cell_type": "code",
   "execution_count": 25,
   "metadata": {},
   "outputs": [
    {
     "data": {
      "text/plain": [
       "[]"
      ]
     },
     "execution_count": 25,
     "metadata": {},
     "output_type": "execute_result"
    }
   ],
   "source": [
    "allConstruct('skateboard', ['bo', 'rd', 'ate', 't', 'ska', 'sk', 'boar'])"
   ]
  },
  {
   "cell_type": "code",
   "execution_count": 28,
   "metadata": {},
   "outputs": [
    {
     "data": {
      "text/plain": [
       "[]"
      ]
     },
     "execution_count": 28,
     "metadata": {},
     "output_type": "execute_result"
    }
   ],
   "source": [
    "allConstructMemo('aaaaaaaaaaaaaaaaaaaaaaaaaaaaz', ['a', 'aa', 'aaa', 'aaa', 'aaaa'])"
   ]
  }
 ],
 "metadata": {
  "kernelspec": {
   "display_name": "Python 3",
   "language": "python",
   "name": "python3"
  },
  "language_info": {
   "codemirror_mode": {
    "name": "ipython",
    "version": 3
   },
   "file_extension": ".py",
   "mimetype": "text/x-python",
   "name": "python",
   "nbconvert_exporter": "python",
   "pygments_lexer": "ipython3",
   "version": "3.8.3"
  }
 },
 "nbformat": 4,
 "nbformat_minor": 4
}
