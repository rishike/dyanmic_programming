{
 "cells": [
  {
   "cell_type": "code",
   "execution_count": 1,
   "metadata": {},
   "outputs": [],
   "source": [
    "# Write a function 'bestSum(targetSum, numbers)' that takes in a\n",
    "# targetSum and an array of numbers as arguments."
   ]
  },
  {
   "cell_type": "code",
   "execution_count": 2,
   "metadata": {},
   "outputs": [],
   "source": [
    "# The function should return an array containing the shortest\n",
    "# combination of numbers that add up to exactly the targetSum"
   ]
  },
  {
   "cell_type": "code",
   "execution_count": 3,
   "metadata": {},
   "outputs": [],
   "source": [
    "# If there is a tie for the shortest combination, you may return any\n",
    "# one of the shortest"
   ]
  },
  {
   "cell_type": "code",
   "execution_count": 13,
   "metadata": {},
   "outputs": [],
   "source": [
    "# m = targetSum\n",
    "# n = numbers length"
   ]
  },
  {
   "cell_type": "code",
   "execution_count": 8,
   "metadata": {},
   "outputs": [],
   "source": [
    "# Brute Force\n",
    "# Time: O(n^m * m)\n",
    "# Space: O(m^2)\n",
    "def bestSum(targetSum, numbers):\n",
    "    if targetSum == 0: return []\n",
    "    if targetSum < 0: return None\n",
    "    \n",
    "    shortestCombination = None\n",
    "    \n",
    "    for num in numbers:\n",
    "        remainder = targetSum - num\n",
    "        remainderCombination = bestSum(remainder, numbers)\n",
    "        if remainderCombination is not None:\n",
    "            combination = remainderCombination + [num]\n",
    "            # if the combination is shorter than the current \"shortest\", update it \n",
    "            if (shortestCombination is None) or (len(combination) < len(shortestCombination)):\n",
    "                shortestCombination = combination\n",
    "\n",
    "    return shortestCombination"
   ]
  },
  {
   "cell_type": "code",
   "execution_count": 17,
   "metadata": {},
   "outputs": [],
   "source": [
    "# Memoization\n",
    "# Time: O(m^2 * n)\n",
    "# Space: O(m^2)\n",
    "\n",
    "def bestSumMemo(targetSum, numbers, memo={}):\n",
    "    if targetSum in memo: return memo[targetSum]\n",
    "    if targetSum == 0: return []\n",
    "    if targetSum < 0: return None\n",
    "    \n",
    "    shortestCombination = None\n",
    "    \n",
    "    for num in numbers:\n",
    "        remainder = targetSum - num\n",
    "        remainderCombination = bestSumMemo(remainder, numbers, memo)\n",
    "        if remainderCombination is not None:\n",
    "            combination = remainderCombination + [num]\n",
    "            # if the combination is shorter than the current \"shortest\", update it \n",
    "            if (shortestCombination is None) or (len(combination) < len(shortestCombination)):\n",
    "                shortestCombination = combination\n",
    "    \n",
    "    memo[targetSum] = shortestCombination\n",
    "    return shortestCombination"
   ]
  },
  {
   "cell_type": "code",
   "execution_count": 9,
   "metadata": {},
   "outputs": [
    {
     "data": {
      "text/plain": [
       "[7]"
      ]
     },
     "execution_count": 9,
     "metadata": {},
     "output_type": "execute_result"
    }
   ],
   "source": [
    "bestSum(7, [5,3,4,7])"
   ]
  },
  {
   "cell_type": "code",
   "execution_count": 10,
   "metadata": {},
   "outputs": [
    {
     "data": {
      "text/plain": [
       "[5, 3]"
      ]
     },
     "execution_count": 10,
     "metadata": {},
     "output_type": "execute_result"
    }
   ],
   "source": [
    "bestSum(8, [2,3,5])"
   ]
  },
  {
   "cell_type": "code",
   "execution_count": 18,
   "metadata": {},
   "outputs": [
    {
     "data": {
      "text/plain": [
       "[4, 4]"
      ]
     },
     "execution_count": 18,
     "metadata": {},
     "output_type": "execute_result"
    }
   ],
   "source": [
    "bestSumMemo(8, [1,4,5])"
   ]
  },
  {
   "cell_type": "code",
   "execution_count": 15,
   "metadata": {},
   "outputs": [
    {
     "data": {
      "text/plain": [
       "[25, 25, 25, 25]"
      ]
     },
     "execution_count": 15,
     "metadata": {},
     "output_type": "execute_result"
    }
   ],
   "source": [
    "bestSumMemo(100, [1,2,5, 25])"
   ]
  }
 ],
 "metadata": {
  "kernelspec": {
   "display_name": "Python 3",
   "language": "python",
   "name": "python3"
  },
  "language_info": {
   "codemirror_mode": {
    "name": "ipython",
    "version": 3
   },
   "file_extension": ".py",
   "mimetype": "text/x-python",
   "name": "python",
   "nbconvert_exporter": "python",
   "pygments_lexer": "ipython3",
   "version": "3.8.3"
  }
 },
 "nbformat": 4,
 "nbformat_minor": 4
}
