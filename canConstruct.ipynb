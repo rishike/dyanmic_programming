{
 "cells": [
  {
   "cell_type": "code",
   "execution_count": 3,
   "metadata": {},
   "outputs": [],
   "source": [
    "# Write a function 'canConstruct(target, wordBank)' that accepts a\n",
    "# target string and an array of strings."
   ]
  },
  {
   "cell_type": "code",
   "execution_count": 4,
   "metadata": {},
   "outputs": [],
   "source": [
    "# The function should return a boolean indicating whether or not the \n",
    "# 'target' can be constructed by concatenating elements of the\n",
    "# 'wordBank' array."
   ]
  },
  {
   "cell_type": "code",
   "execution_count": 5,
   "metadata": {},
   "outputs": [],
   "source": [
    "# You may reuse elements of 'wordBank' as many times as needed."
   ]
  },
  {
   "cell_type": "code",
   "execution_count": null,
   "metadata": {},
   "outputs": [],
   "source": [
    "# m : target\n",
    "# n : wordBank length"
   ]
  },
  {
   "cell_type": "code",
   "execution_count": 2,
   "metadata": {},
   "outputs": [],
   "source": [
    "# Brute Force\n",
    "# time: O(n^m * m)\n",
    "# space: O(m^2)\n",
    "\n",
    "def canConstruct(target, wordBank):\n",
    "    if target == '': return True\n",
    "    for word in wordBank:\n",
    "        if target.find(word) == 0:\n",
    "            suffix = target[len(word):]\n",
    "            if canConstruct(suffix, wordBank) == True:\n",
    "                return True\n",
    "    return False"
   ]
  },
  {
   "cell_type": "code",
   "execution_count": 12,
   "metadata": {},
   "outputs": [],
   "source": [
    "# Memoized\n",
    "# time: O(n * m^2)\n",
    "# space: O(m^2)\n",
    "def canConstructMemo(target, wordBank, memo={}):\n",
    "    if target in memo: return memo[target]\n",
    "    if target == '': return True\n",
    "    for word in wordBank:\n",
    "        if target.find(word) == 0:\n",
    "            suffix = target[len(word):]\n",
    "            if canConstructMemo(suffix, wordBank, memo) == True:\n",
    "                memo[target] = True\n",
    "                return True\n",
    "    memo[target] = False\n",
    "    return False"
   ]
  },
  {
   "cell_type": "code",
   "execution_count": 6,
   "metadata": {},
   "outputs": [
    {
     "data": {
      "text/plain": [
       "True"
      ]
     },
     "execution_count": 6,
     "metadata": {},
     "output_type": "execute_result"
    }
   ],
   "source": [
    "canConstruct('abcdef', ['ab', 'abc', 'cd', 'def', 'abcd'])"
   ]
  },
  {
   "cell_type": "code",
   "execution_count": 7,
   "metadata": {},
   "outputs": [
    {
     "data": {
      "text/plain": [
       "False"
      ]
     },
     "execution_count": 7,
     "metadata": {},
     "output_type": "execute_result"
    }
   ],
   "source": [
    "canConstruct('skateboard', ['bo', 'rd', 'ate', 't', 'ska', 'boar'])"
   ]
  },
  {
   "cell_type": "code",
   "execution_count": 8,
   "metadata": {},
   "outputs": [
    {
     "data": {
      "text/plain": [
       "True"
      ]
     },
     "execution_count": 8,
     "metadata": {},
     "output_type": "execute_result"
    }
   ],
   "source": [
    "canConstruct('enterapotentpot', ['a', 'p', 'ent', 'enter', 'ot', 'o', 't'])"
   ]
  },
  {
   "cell_type": "code",
   "execution_count": 13,
   "metadata": {},
   "outputs": [
    {
     "data": {
      "text/plain": [
       "False"
      ]
     },
     "execution_count": 13,
     "metadata": {},
     "output_type": "execute_result"
    }
   ],
   "source": [
    "canConstructMemo(\"eeeeeeeeeeeeeeeeeeeeeeeeeeeeeeeeeeeeeeeeeeeeeef\", [\"e\", \"ee\", \"eee\", \"eeee\", \"eeeee\", \"eeeeee\"])"
   ]
  }
 ],
 "metadata": {
  "kernelspec": {
   "display_name": "Python 3",
   "language": "python",
   "name": "python3"
  },
  "language_info": {
   "codemirror_mode": {
    "name": "ipython",
    "version": 3
   },
   "file_extension": ".py",
   "mimetype": "text/x-python",
   "name": "python",
   "nbconvert_exporter": "python",
   "pygments_lexer": "ipython3",
   "version": "3.8.3"
  }
 },
 "nbformat": 4,
 "nbformat_minor": 4
}
