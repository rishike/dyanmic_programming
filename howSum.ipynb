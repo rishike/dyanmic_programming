{
 "cells": [
  {
   "cell_type": "code",
   "execution_count": 1,
   "metadata": {},
   "outputs": [],
   "source": [
    "# Write a function 'howSum(target, numbers)' that takes in a\n",
    "# targetSum and an array of numbers as arguments."
   ]
  },
  {
   "cell_type": "code",
   "execution_count": 2,
   "metadata": {},
   "outputs": [],
   "source": [
    "# The function should return an array containing any combination of\n",
    "# elements that add up to exactly the targetSum. If there is no\n",
    "# Combination that adds up to the targetSum, then return null."
   ]
  },
  {
   "cell_type": "code",
   "execution_count": 3,
   "metadata": {},
   "outputs": [],
   "source": [
    "# If there are multiple combinations possible, you may return any\n",
    "# single one."
   ]
  },
  {
   "cell_type": "code",
   "execution_count": null,
   "metadata": {},
   "outputs": [],
   "source": [
    "# m = targetSum\n",
    "# n = numbers length"
   ]
  },
  {
   "cell_type": "code",
   "execution_count": 133,
   "metadata": {},
   "outputs": [],
   "source": [
    "# Brute force\n",
    "# time: O(n^m * m)\n",
    "# space: O(m)\n",
    "\n",
    "def howSum(targetSum, numbers):\n",
    "    if targetSum == 0: return []\n",
    "    if targetSum < 0: return None\n",
    "    \n",
    "    for num in numbers:\n",
    "        remainder = targetSum - num\n",
    "        remainderResult = howSum(remainder, numbers)\n",
    "        if remainderResult is not None:\n",
    "            return remainderResult + [num]\n",
    "    return None"
   ]
  },
  {
   "cell_type": "code",
   "execution_count": 148,
   "metadata": {},
   "outputs": [],
   "source": [
    "# Memoized\n",
    "# time: O(n*m^2)\n",
    "# space : O(m^2)\n",
    "def howSumMemo(targetSum, numbers, memo={}):\n",
    "    if targetSum in memo: return memo[targetSum]\n",
    "    if targetSum == 0: return []\n",
    "    if targetSum < 0: return None\n",
    "    \n",
    "    for num in numbers:\n",
    "        remainder = targetSum - num\n",
    "        remainderResult = howSumMemo(remainder, numbers, memo)\n",
    "        if remainderResult is not None:\n",
    "            memo[targetSum] = remainderResult + [num]\n",
    "            return memo[targetSum]\n",
    "    memo[targetSum] = None\n",
    "    return None"
   ]
  },
  {
   "cell_type": "code",
   "execution_count": 138,
   "metadata": {},
   "outputs": [
    {
     "data": {
      "text/plain": [
       "[3, 2, 2]"
      ]
     },
     "execution_count": 138,
     "metadata": {},
     "output_type": "execute_result"
    }
   ],
   "source": [
    "howSumMemo(7, [2,3])"
   ]
  },
  {
   "cell_type": "code",
   "execution_count": 140,
   "metadata": {},
   "outputs": [
    {
     "data": {
      "text/plain": [
       "[4, 3]"
      ]
     },
     "execution_count": 140,
     "metadata": {},
     "output_type": "execute_result"
    }
   ],
   "source": [
    "howSumMemo(7, [5,3,4,7])"
   ]
  },
  {
   "cell_type": "code",
   "execution_count": 144,
   "metadata": {},
   "outputs": [],
   "source": [
    "howSumMemo(7, [2,4])"
   ]
  },
  {
   "cell_type": "code",
   "execution_count": 146,
   "metadata": {},
   "outputs": [
    {
     "data": {
      "text/plain": [
       "[2, 2, 2, 2]"
      ]
     },
     "execution_count": 146,
     "metadata": {},
     "output_type": "execute_result"
    }
   ],
   "source": [
    "howSumMemo(8, [2,3,5])"
   ]
  },
  {
   "cell_type": "code",
   "execution_count": 150,
   "metadata": {},
   "outputs": [],
   "source": [
    "howSumMemo(300, [7,14])"
   ]
  }
 ],
 "metadata": {
  "kernelspec": {
   "display_name": "Python 3",
   "language": "python",
   "name": "python3"
  },
  "language_info": {
   "codemirror_mode": {
    "name": "ipython",
    "version": 3
   },
   "file_extension": ".py",
   "mimetype": "text/x-python",
   "name": "python",
   "nbconvert_exporter": "python",
   "pygments_lexer": "ipython3",
   "version": "3.8.3"
  }
 },
 "nbformat": 4,
 "nbformat_minor": 4
}
